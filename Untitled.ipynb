{
 "cells": [
  {
   "cell_type": "markdown",
   "metadata": {},
   "source": [
    "1) Write a python program which creates a class named Cone and write a\n",
    "function calculate_area which calculates the area of the Cone.\n",
    "                Please enter the radius of the cone: 4\n",
    "                Please enter the height of the cone: 5\n",
    "                Area of a cone with radius: 4.00 and height: 5.00 is: 83.73"
   ]
  },
  {
   "cell_type": "code",
   "execution_count": 3,
   "metadata": {},
   "outputs": [],
   "source": [
    "import math"
   ]
  },
  {
   "cell_type": "code",
   "execution_count": 13,
   "metadata": {},
   "outputs": [
    {
     "name": "stdout",
     "output_type": "stream",
     "text": [
      "Please Enter the Radius of a Cone: 4\n",
      "Please Enter the Height of a Cone: 5\n",
      "Area of a cone with radius:4.0 and height: 5.0 is: 83.7758040957278\n"
     ]
    }
   ],
   "source": [
    "\n",
    "class Cone:\n",
    "    def __init__(self, Radius, Hight):\n",
    "        self.rad = Radius\n",
    "        self.hight = Hight\n",
    "    def  get_area(self):\n",
    "        return ((1.0/3) * math.pi * self.rad * self.rad * self.hight)\n",
    "rad = float(input('Please Enter the Radius of a Cone: '))\n",
    "hght = float(input('Please Enter the Height of a Cone: '))\n",
    "instance = Cone(rad,hght)\n",
    "print (\"Area of a cone with radius:{} and height: {} is: \".format(rad,hght) + str(instance.get_area()) )"
   ]
  },
  {
   "cell_type": "markdown",
   "metadata": {},
   "source": [
    "2) Define a class MathOperation which implements pow(x,n) without using\n",
    "python's in-built pow() method"
   ]
  },
  {
   "cell_type": "code",
   "execution_count": 14,
   "metadata": {},
   "outputs": [],
   "source": [
    "class py_solution:\n",
    "    def pow(self, x, n):\n",
    "        if x==0 or x==1 or n==1:\n",
    "            return x \n",
    "\n",
    "        if x==-1:\n",
    "            if n%2 ==0:\n",
    "                return 1\n",
    "            else:\n",
    "                return -1\n",
    "        if n==0:\n",
    "            return 1\n",
    "        if n<0:\n",
    "            return 1/self.pow(x,-n)\n",
    "        val = self.pow(x,n//2)\n",
    "        if n%2 ==0:\n",
    "            return val*val\n",
    "        return val*val*x\n"
   ]
  },
  {
   "cell_type": "code",
   "execution_count": 15,
   "metadata": {},
   "outputs": [
    {
     "name": "stdout",
     "output_type": "stream",
     "text": [
      "8\n"
     ]
    }
   ],
   "source": [
    "print(py_solution().pow(2, 3))\n"
   ]
  },
  {
   "cell_type": "code",
   "execution_count": 16,
   "metadata": {},
   "outputs": [
    {
     "name": "stdout",
     "output_type": "stream",
     "text": [
      "0.008\n"
     ]
    }
   ],
   "source": [
    "print(py_solution().pow(5,-3))"
   ]
  },
  {
   "cell_type": "code",
   "execution_count": 17,
   "metadata": {},
   "outputs": [
    {
     "name": "stdout",
     "output_type": "stream",
     "text": [
      "-32\n"
     ]
    }
   ],
   "source": [
    "print(py_solution().pow(-2, 5))"
   ]
  },
  {
   "cell_type": "code",
   "execution_count": 18,
   "metadata": {},
   "outputs": [
    {
     "name": "stdout",
     "output_type": "stream",
     "text": [
      "-0.008\n"
     ]
    }
   ],
   "source": [
    "print(py_solution().pow(-5,-3))"
   ]
  },
  {
   "cell_type": "code",
   "execution_count": 20,
   "metadata": {},
   "outputs": [
    {
     "name": "stdout",
     "output_type": "stream",
     "text": [
      "1\n"
     ]
    }
   ],
   "source": [
    "print(py_solution().pow(2000, 0))"
   ]
  },
  {
   "cell_type": "markdown",
   "metadata": {},
   "source": [
    "3) Write a python program that creates a class Base and Derived. Use inbuilt function issubclass and isinstance which gives \n",
    "boolean results.(True or False)\n",
    "Check:\n",
    "Derived class is a subclass of Base class which will return true\n",
    "Base class is a subclass of Derived class which will return false\n",
    "Base class is an instance of Derived class which will return false\n",
    "Derived class is an instance of Base class which will return true\n"
   ]
  },
  {
   "cell_type": "code",
   "execution_count": 19,
   "metadata": {},
   "outputs": [
    {
     "name": "stdout",
     "output_type": "stream",
     "text": [
      "Base class\n",
      "Derived class\n",
      "Derived class is a subclass of Base class: True\n",
      "Base class is a subclass of Derived class: False\n",
      "Base class is an instance of Derived class: False\n",
      "Derived class is an instance of Base class: True\n"
     ]
    }
   ],
   "source": [
    "class Base:\n",
    "    print (\"Base class\")\n",
    "    \n",
    "class Derived(Base):\n",
    "    print (\"Derived class\")\n",
    "b=Base()\n",
    "d=Derived()  \n",
    "result = issubclass(Derived, Base)\n",
    "print('Derived class is a subclass of Base class:', result)\n",
    "result = issubclass(Base, Derived)\n",
    "print('Base class is a subclass of Derived class:', result)\n",
    "result = isinstance(b, Derived)\n",
    "print('Base class is an instance of Derived class:', result)\n",
    "result = isinstance(d, Base)\n",
    "print('Derived class is an instance of Base class:', result)"
   ]
  },
  {
   "cell_type": "markdown",
   "metadata": {},
   "source": [
    "\n",
    "4) Write a python program that creates base class Person which has two methods\n",
    "def __init__(self, first, last)\n",
    "def __str__(self)\n",
    "Also create a derived class named Employee which uses the base class method \n",
    "“def __str__(self)” using “super()” to concatenate first name with last name"
   ]
  },
  {
   "cell_type": "code",
   "execution_count": 25,
   "metadata": {},
   "outputs": [
    {
     "name": "stdout",
     "output_type": "stream",
     "text": [
      "Concatination of first and last name with super class: Niranjan Kumar\n"
     ]
    }
   ],
   "source": [
    "class Person:\n",
    "\n",
    "    def __init__(self,first,last): \n",
    "        self.FirstName=first\n",
    "        self.LastName=last\n",
    "    def __str__(self):\n",
    "        return \"Concatination of first and last name with super class: {} {}\".format(self.FirstName, self.LastName)\n",
    "class Employee(Person):\n",
    "\n",
    "    def __init__(self, first, last):\n",
    "        super().__init__(first, last)\n",
    "emp=Employee(\"Niranjan\",\"Kumar\")\n",
    "print(emp)\n"
   ]
  },
  {
   "cell_type": "code",
   "execution_count": null,
   "metadata": {},
   "outputs": [],
   "source": []
  }
 ],
 "metadata": {
  "kernelspec": {
   "display_name": "Python 3",
   "language": "python",
   "name": "python3"
  },
  "language_info": {
   "codemirror_mode": {
    "name": "ipython",
    "version": 3
   },
   "file_extension": ".py",
   "mimetype": "text/x-python",
   "name": "python",
   "nbconvert_exporter": "python",
   "pygments_lexer": "ipython3",
   "version": "3.7.0"
  }
 },
 "nbformat": 4,
 "nbformat_minor": 2
}
